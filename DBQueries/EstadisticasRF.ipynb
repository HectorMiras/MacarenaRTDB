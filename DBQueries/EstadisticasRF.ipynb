{
 "cells": [
  {
   "cell_type": "code",
   "execution_count": 1,
   "metadata": {},
   "outputs": [],
   "source": [
    "from pymongo import MongoClient\n",
    "import datetime\n",
    "import FuncRepo\n",
    "import pandas\n",
    "import pandas_profiling\n",
    "import numpy as np\n",
    "import pprint\n",
    "client = MongoClient('mongodb://10.233.42.60:27017') # Establece una conexión a MongoDB\n",
    "#client = MongoClient('mongodb://localhost:27017')\n",
    "db = client['local'] # Seleccionamos la base de datos \"local\". \n",
    "#También funciona el acceso a través del atributo:\n",
    "#db = client.local\n",
    "pacientes = db['PacientesRT'] # Seleccionamos la colección \"PacientesRT\", que está dentro de la base de datos local"
   ]
  },
  {
   "cell_type": "code",
   "execution_count": 2,
   "metadata": {},
   "outputs": [],
   "source": [
    "start_date = datetime.datetime(2020, 4, 1, 0, 0, 0)\n",
    "end_date = datetime.datetime(2020, 6, 30, 0, 0, 0)"
   ]
  },
  {
   "cell_type": "code",
   "execution_count": 8,
   "metadata": {},
   "outputs": [
    {
     "name": "stdout",
     "output_type": "stream",
     "text": [
      "\n",
      "Consulta: Pacientes con alguna planificación entre 01/04/2020 y 30/06/2020\n",
      "Numero de pacientes que cumplen la consulta: 294\n",
      "\n",
      "Numero de pacientes con problemas: 2\n",
      "{'AN0453579778': 'JOSE MESA ANDUJAR. Demora prescripcion-planificacion de 84'}\n",
      "{'AN0518144190': 'JOSE CARLOS GOMEZ GRACIA. Demora prescripcion-planificacion de 56'}\n",
      "\n",
      "                Demora_Prescripcion-Plan             \n",
      "Verificacion                          No     Si   All\n",
      "Patologia                                            \n",
      "Adenocarcinomas                     3.73   3.89  3.79\n",
      "Cabeza y cuello                     1.25  12.10  9.00\n",
      "Carcinomas                          1.66   8.94  3.70\n",
      "Cérvix                              0.00  11.50  7.67\n",
      "Glioma                              2.60   6.00  3.17\n",
      "Linfomas                            3.80   8.29  6.42\n",
      "Mama                                3.39   4.64  3.63\n",
      "Próstata                            1.00   5.50  4.12\n",
      "Pulmón                              2.00   6.50  3.12\n",
      "Recto                               1.90   8.12  4.67\n",
      "All                                 2.68   6.78  4.17\n"
     ]
    }
   ],
   "source": [
    "df_planificaciones = pandas.DataFrame(FuncRepo.consulta_planificaciones(pacientes, start_date, end_date))\n",
    "tabla_demoras_plan = pandas.pivot_table(df_planificaciones,\n",
    "                       index=['Patologia'],\n",
    "                       values=[\"Demora_Prescripcion-Plan\"],\n",
    "                       columns=[\"Verificacion\"],\n",
    "                       aggfunc=np.mean,\n",
    "                       fill_value=0,\n",
    "                       margins=True).round(2)\n",
    "print(tabla_demoras_plan)"
   ]
  },
  {
   "cell_type": "code",
   "execution_count": 42,
   "metadata": {},
   "outputs": [
    {
     "name": "stdout",
     "output_type": "stream",
     "text": [
      "12\n"
     ]
    }
   ],
   "source": [
    "df=tabla_demoras_plan\n",
    "df2 = df.reset_index() # reset the index so row labels show up in the reportlab table\n",
    "n = df2.columns.nlevels # number of table header rows to repeat\n",
    "if n > 1:\n",
    "    labels1 = [list(val) for val in df2.columns.values]\n",
    "    labels1 = [list(i) for i in zip(*labels1)]  #transponemos la lista\n",
    "    labels = [labels1[:][n-1]]  # nos quedamos con el último nivel de columnas\n",
    "    #labels = map(list, zip(*df2.columns.values[1]))\n",
    "else:\n",
    "    labels = [df2.columns[:,].values.astype(str).tolist()]\n",
    "values = df2.values.tolist()\n",
    "datalist = labels + values\n",
    "print(len(datalist))"
   ]
  },
  {
   "cell_type": "code",
   "execution_count": 24,
   "metadata": {},
   "outputs": [
    {
     "name": "stdout",
     "output_type": "stream",
     "text": [
      "                              Demora_Prescripcion-Plan  Numero\n",
      "Patologia       Verificacion                                  \n",
      "Adenocarcinomas No                            3.733333      15\n",
      "                Si                            3.888889       9\n",
      "Cabeza y cuello No                            1.250000       4\n",
      "                Si                           12.100000      10\n",
      "Carcinomas      No                            1.658537      41\n",
      "                Si                            8.937500      16\n",
      "Cérvix          No                            0.000000       1\n",
      "                Si                           11.500000       2\n",
      "Glioma          No                            2.600000       5\n",
      "                Si                            6.000000       1\n",
      "Linfomas        No                            3.800000       5\n",
      "                Si                            8.285714       7\n",
      "Mama            No                            3.387097      93\n",
      "                Si                            4.636364      22\n",
      "Próstata        No                            1.000000      15\n",
      "                Si                            5.500000      34\n",
      "Pulmón          No                            2.000000       6\n",
      "                Si                            6.500000       2\n",
      "Recto           No                            1.900000      10\n",
      "                Si                            8.125000       8\n"
     ]
    },
    {
     "name": "stderr",
     "output_type": "stream",
     "text": [
      "C:\\Users\\Hector\\Anaconda3\\lib\\site-packages\\ipykernel_launcher.py:1: FutureWarning: Indexing with multiple keys (implicitly converted to a tuple of keys) will be deprecated, use a list instead.\n",
      "  \"\"\"Entry point for launching an IPython kernel.\n"
     ]
    }
   ],
   "source": [
    "print(df_planificaciones.groupby([\"Patologia\",\"Verificacion\"])[\"Demora_Prescripcion-Plan\",\"Numero\"].agg({\n",
    "    \"Demora_Prescripcion-Plan\":\"mean\",\n",
    "    \"Numero\": \"sum\"\n",
    "}))"
   ]
  },
  {
   "cell_type": "code",
   "execution_count": null,
   "metadata": {},
   "outputs": [],
   "source": [
    "print(df_planificaciones.groupby([\"Patologia\"])[\"Demora_Prescripcion-Plan\",\"Numero\"].agg({\n",
    "    \"Demora_Prescripcion-Plan\":\"mean\",\n",
    "    \"Numero\": \"sum\"\n",
    "}))"
   ]
  },
  {
   "cell_type": "code",
   "execution_count": 5,
   "metadata": {},
   "outputs": [
    {
     "data": {
      "image/png": "[encoded data removed]",
      "text/plain": [
       "<Figure size 288x216 with 1 Axes>"
      ]
     },
     "metadata": {
      "needs_background": "light"
     },
     "output_type": "display_data"
    }
   ],
   "source": [
    "import matplotlib.pyplot as plt\n",
    "from io import BytesIO\n",
    "from io import StringIO\n",
    "from reportlab.lib.utils import ImageReader\n",
    "\n",
    "plt.rcParams[\"figure.figsize\"] = (4,3)\n",
    "df_sesiones.hist('Semana')\n",
    "plt.xlabel(\"Semana\")\n",
    "plt.ylabel(\"Numero inicios\")\n",
    "fig = plt.gcf()"
   ]
  },
  {
   "cell_type": "code",
   "execution_count": 6,
   "metadata": {},
   "outputs": [
    {
     "name": "stdout",
     "output_type": "stream",
     "text": [
      "<PandasArray>\n",
      "[18, 17, 17, 15, 16, 16, 18, 16, 19, 18,\n",
      " ...\n",
      " 23, 20, 22, 25, 22, 22, 21, 25, 21, 21]\n",
      "Length: 127, dtype: int64\n"
     ]
    },
    {
     "data": {
      "text/plain": [
       "(array([ 2.,  6., 17., 12., 13., 21., 13., 13., 15.,  8.,  7.]),\n",
       " array([14., 15., 16., 17., 18., 19., 20., 21., 22., 23., 24., 25.]),\n",
       " <a list of 11 Patch objects>)"
      ]
     },
     "execution_count": 6,
     "metadata": {},
     "output_type": "execute_result"
    },
    {
     "data": {
      "image/png": "[encoded data removed]",
      "text/plain": [
       "<Figure size 288x216 with 1 Axes>"
      ]
     },
     "metadata": {
      "needs_background": "light"
     },
     "output_type": "display_data"
    }
   ],
   "source": [
    "h = df_sesiones['Semana']\n",
    "hist=h.array\n",
    "print(hist)\n",
    "plt.hist(hist,bins=(np.max(hist)-np.min(hist)))"
   ]
  },
  {
   "cell_type": "code",
   "execution_count": 7,
   "metadata": {},
   "outputs": [
    {
     "name": "stdout",
     "output_type": "stream",
     "text": [
      "[ 8 17 12 13 21 13 13 15  8  7] [14.  15.1 16.2 17.3 18.4 19.5 20.6 21.7 22.8 23.9 25. ]\n",
      "[14.  15.1 16.2 17.3 18.4 19.5 20.6 21.7 22.8 23.9]\n"
     ]
    },
    {
     "data": {
      "image/png": "[encoded data removed]",
      "text/plain": [
       "<Figure size 288x216 with 1 Axes>"
      ]
     },
     "metadata": {
      "needs_background": "light"
     },
     "output_type": "display_data"
    }
   ],
   "source": [
    "hist, bins = np.histogram(df_sesiones['Semana'].array)\n",
    "print((hist),(bins))\n",
    "bins = bins[0:(len(bins)-1)]\n",
    "print(bins)\n",
    "fig, ax = plt.subplots()\n",
    "ax.bar(bins, hist, width=1, align='center')\n",
    "ax.set(xticks=bins)\n",
    "ax.set_title('Inicios')\n",
    "ax.set_xlabel('Semana')\n",
    "for i, v in enumerate(hist):\n",
    "    ax.text(i, v,str(v), color='blue', fontweight='bold')\n",
    "plt.show()"
   ]
  },
  {
   "cell_type": "code",
   "execution_count": 48,
   "metadata": {},
   "outputs": [
    {
     "name": "stdout",
     "output_type": "stream",
     "text": [
      "<class 'pandas.core.series.Series'>\n",
      "<PandasArray>\n",
      "[14, 15, 16, 17, 18, 19, 20, 21, 22, 23, 24, 25]\n",
      "Length: 12, dtype: int64\n",
      "[ 2  6 17 12 13 21 13 13 15  8  5  2]\n"
     ]
    },
    {
     "data": {
      "image/png": "[encoded data removed]",
      "text/plain": [
       "<Figure size 288x216 with 1 Axes>"
      ]
     },
     "metadata": {
      "needs_background": "light"
     },
     "output_type": "display_data"
    }
   ],
   "source": [
    "hist = df_sesiones.groupby(['Semana']).sum()[\"Numero\"]\n",
    "fig, ax = plt.subplots()\n",
    "bars = ax.bar(hist.index.array, hist.to_numpy(), width=1, align='center')\n",
    "ax.set(xticks=hist.index.array)\n",
    "ax.set_title('Inicios')\n",
    "ax.set_xlabel('Semana')\n",
    "\n",
    "for bar in bars:\n",
    "    text = bar.get_height()\n",
    "\n",
    "    text_x = bar.get_x() + bar.get_width()/4\n",
    "    text_y = 0.5*bar.get_height()\n",
    "\n",
    "    ax.text(text_x, text_y, text, va='center', color='white', fontweight='bold', fontsize=12)\n",
    "ax.get_yaxis().set_visible(False)\n",
    "for item in ([ax.title, ax.xaxis.label, ax.yaxis.label] +\n",
    "             ax.get_xticklabels() + ax.get_yticklabels()):\n",
    "    item.set_fontsize(12)"
   ]
  },
  {
   "cell_type": "code",
   "execution_count": 49,
   "metadata": {},
   "outputs": [
    {
     "name": "stdout",
     "output_type": "stream",
     "text": [
      "\n",
      "Consulta: Pacientes con primera sesión de tratamiento entre 01/04/2020 y 30/06/2020\n",
      "Numero de pacientes que cumplen la consulta: 127\n",
      "\n",
      "Numero de pacientes con problemas: 1\n",
      "{'AN0471223775': 'MARIA ANGELES FABRIQUE DURAN. Fecha de inicio de tratamiento anterior a la planificación -13 días'}\n",
      "\n",
      "\n",
      "Consulta: Pacientes con alguna planificación entre 01/04/2020 y 30/06/2020\n",
      "Numero de pacientes que cumplen la consulta: 285\n",
      "\n",
      "Numero de pacientes con problemas: 3\n",
      "{'AN0524299145': 'MARIA LUISA BUSTO PAREJO. Demora prescripcion-planificacion de 127'}\n",
      "{'AN0453579778': 'JOSE MESA ANDUJAR. Demora prescripcion-planificacion de 84'}\n",
      "{'AN0518144190': 'JOSE CARLOS GOMEZ GRACIA. Demora prescripcion-planificacion de 56'}\n",
      "\n"
     ]
    },
    {
     "data": {
      "image/png": "[encoded data removed]",
      "text/plain": [
       "<Figure size 288x216 with 1 Axes>"
      ]
     },
     "metadata": {
      "needs_background": "light"
     },
     "output_type": "display_data"
    }
   ],
   "source": [
    "df_sesiones = pandas.DataFrame(FuncRepo.consulta_sesiones(pacientes, start_date, end_date))\n",
    "df_planes = pandas.DataFrame(FuncRepo.consulta_planificaciones(pacientes, start_date, end_date))\n",
    "hist_sesiones = df_sesiones.groupby(['Semana']).sum()[\"Numero\"]\n",
    "fig, ax = plt.subplots()\n",
    "bars = ax.bar(hist_sesiones.index.array, hist_sesiones.to_numpy(), width=1, align='center')\n",
    "hist_planes = df_planes.groupby(['Semana']).sum()[\"Numero\"]\n",
    "bars = ax.bar(hist_planes.index.array, hist_planes.to_numpy(), width=1, align='center')"
   ]
  },
  {
   "cell_type": "code",
   "execution_count": null,
   "metadata": {},
   "outputs": [],
   "source": []
  }
 ],
 "metadata": {
  "kernelspec": {
   "display_name": "Python 3",
   "language": "python",
   "name": "python3"
  },
  "language_info": {
   "codemirror_mode": {
    "name": "ipython",
    "version": 3
   },
   "file_extension": ".py",
   "mimetype": "text/x-python",
   "name": "python",
   "nbconvert_exporter": "python",
   "pygments_lexer": "ipython3",
   "version": "3.7.0"
  }
 },
 "nbformat": 4,
 "nbformat_minor": 2
}
